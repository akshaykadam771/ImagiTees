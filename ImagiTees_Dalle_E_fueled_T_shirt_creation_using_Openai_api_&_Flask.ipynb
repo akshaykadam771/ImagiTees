{
  "cells": [
    {
      "cell_type": "code",
      "execution_count": null,
      "metadata": {
        "id": "aOhDU03UgfMo"
      },
      "outputs": [],
      "source": [
        "# Install Necessary libraries"
      ]
    },
    {
      "cell_type": "code",
      "execution_count": null,
      "metadata": {
        "id": "hJxVata1h5Y3"
      },
      "outputs": [],
      "source": [
        "!pip install pyngrok\n",
        "!pip install -q openai\n",
        "!pip install flask"
      ]
    },
    {
      "cell_type": "code",
      "execution_count": null,
      "metadata": {
        "id": "rpAuGCwdh9-_"
      },
      "outputs": [],
      "source": [
        "# Import libraries"
      ]
    },
    {
      "cell_type": "code",
      "execution_count": null,
      "metadata": {
        "id": "ojMVf54wiMxj"
      },
      "outputs": [],
      "source": [
        "from flask import Flask, render_template, request\n",
        "from pyngrok import ngrok\n",
        "import os\n",
        "import openai\n",
        "import urllib.parse\n",
        "import json"
      ]
    },
    {
      "cell_type": "code",
      "execution_count": null,
      "metadata": {
        "id": "FoeTQImljH3L"
      },
      "outputs": [],
      "source": [
        "# Setting up the google drive path where the project folder is located"
      ]
    },
    {
      "cell_type": "code",
      "execution_count": null,
      "metadata": {
        "colab": {
          "base_uri": "https://localhost:8080/",
          "height": 35
        },
        "id": "WcP5yYgSjF5g",
        "outputId": "9d1464b0-32ca-498e-f310-e79c83ab717f"
      },
      "outputs": [
        {
          "output_type": "execute_result",
          "data": {
            "text/plain": [
              "'/content/drive/MyDrive/Final_tshirt_print_generation_dalle2_openapi'"
            ],
            "application/vnd.google.colaboratory.intrinsic+json": {
              "type": "string"
            }
          },
          "metadata": {},
          "execution_count": 3
        }
      ],
      "source": [
        "RESEARCH_DIR = \"/content/drive/MyDrive/Final_tshirt_print_generation_dalle2_openapi\"\n",
        "os.chdir(RESEARCH_DIR)\n",
        "os.getcwd()"
      ]
    },
    {
      "cell_type": "code",
      "execution_count": null,
      "metadata": {
        "id": "5e7YIptljUbx"
      },
      "outputs": [],
      "source": [
        "# Setting up the port number for ngrok"
      ]
    },
    {
      "cell_type": "code",
      "execution_count": null,
      "metadata": {
        "id": "VmMRhmF9isUs"
      },
      "outputs": [],
      "source": [
        "port_no = 5000"
      ]
    },
    {
      "cell_type": "code",
      "execution_count": null,
      "metadata": {
        "id": "M5uGIycbjaGS"
      },
      "outputs": [],
      "source": [
        "# Set up your OpenAI API credentials"
      ]
    },
    {
      "cell_type": "code",
      "execution_count": null,
      "metadata": {
        "id": "FTj3Y5drijXk"
      },
      "outputs": [],
      "source": [
        "with open('OPEN_API_SECRET_KEY.json') as key:\n",
        "  open_api_secret_key = json.load(key)\n",
        "\n",
        "openai.api_key = open_api_secret_key['api_key']"
      ]
    },
    {
      "cell_type": "code",
      "execution_count": null,
      "metadata": {
        "id": "uEDFwdMej62B"
      },
      "outputs": [],
      "source": [
        "# Main script"
      ]
    },
    {
      "cell_type": "code",
      "execution_count": null,
      "metadata": {
        "colab": {
          "background_save": true
        },
        "id": "qfv3iqoZj9cw"
      },
      "outputs": [],
      "source": [
        "app = Flask(__name__, template_folder='./templates')\n",
        "\n",
        "#set up ngrok token\n",
        "with open('NGROK_AUTH_TOKEN.json') as token:\n",
        "  ngrok_auth_token = json.load(token)\n",
        "\n",
        "ngrok.set_auth_token(ngrok_auth_token['auth_token'])\n",
        "public_url =  ngrok.connect(port_no).public_url\n",
        "\n",
        "\n",
        "@app.route(\"/\")\n",
        "def home():\n",
        "    return render_template('index_main.html')\n",
        "\n",
        "@app.route('/show_products',methods=['POST','GET']) # route to show the products in a web UI\n",
        "def show_product():\n",
        "  if request.method == 'POST':\n",
        "    return render_template('products.html')\n",
        "  else:\n",
        "    return \"something went wrong\"\n",
        "\n",
        "@app.route('/black_tshirt',methods=['POST','GET'])\n",
        "def black_tshirts():\n",
        "  if request.method == 'POST':\n",
        "    return render_template('detail_black.html')\n",
        "  else:\n",
        "    return \"something went wrong\"\n",
        "\n",
        "@app.route('/white_tshirt',methods=['POST','GET'])\n",
        "def white_tshirts():\n",
        "  if request.method == 'POST':\n",
        "    return render_template('detail_white.html')\n",
        "  else:\n",
        "    return \"something went wrong\"\n",
        "\n",
        "@app.route('/yellow_tshirt',methods=['POST','GET'])\n",
        "def yellow_tshirts():\n",
        "  if request.method == 'POST':\n",
        "    return render_template('detail_yellow.html')\n",
        "  else:\n",
        "    return \"something went wrong\"\n",
        "\n",
        "@app.route('/generate_black_tshirt',methods=['POST','GET'])\n",
        "def generate_black_tshirt():\n",
        "  if request.method == 'POST':\n",
        "    text_for_generation = str(request.form['text_to_generate'])\n",
        "    response = openai.Image.create_edit(image=open(\"./static/black_512_512.png\", \"rb\"),mask=open(\"./static/black_mask_512.png\", \"rb\"),prompt=text_for_generation,n=1,size=\"512x512\")\n",
        "    image_url = response['data'][0]['url']\n",
        "\n",
        "    # Encode the URL\n",
        "    encoded_image_url = urllib.parse.quote(image_url, safe=':/?=&%')\n",
        "\n",
        "    return render_template('generated_black_image.html',image_url=encoded_image_url)\n",
        "  else:\n",
        "    return \"something went wrong\"\n",
        "\n",
        "\n",
        "@app.route('/generate_white_tshirt',methods=['POST','GET'])\n",
        "def generate_white_tshirt():\n",
        "  if request.method == 'POST':\n",
        "    text_for_generation = str(request.form['text_to_generate'])\n",
        "    response = openai.Image.create_edit(image=open(\"./static/white_512_512.png\", \"rb\"),mask=open(\"./static/white_mask_512.png\", \"rb\"),prompt=text_for_generation,n=1,size=\"512x512\")\n",
        "    image_url = response['data'][0]['url']\n",
        "\n",
        "    #Encode the URL\n",
        "    encoded_image_url = urllib.parse.quote(image_url, safe=':/?=&%')\n",
        "\n",
        "    return render_template('generated_white_image.html',image_url=encoded_image_url)\n",
        "  else:\n",
        "    return \"something went wrong\"\n",
        "\n",
        "\n",
        "@app.route('/generate_yellow_tshirt',methods=['POST','GET'])\n",
        "def generate_yellow_tshirt():\n",
        "  if request.method == 'POST':\n",
        "    text_for_generation = str(request.form['text_to_generate'])\n",
        "    response = openai.Image.create_edit(image=open(\"./static/yellow_512_512.png\", \"rb\"),mask=open(\"./static/yellow_mask_512.png\", \"rb\"),prompt=text_for_generation,n=1,size=\"512x512\")\n",
        "    image_url = response['data'][0]['url']\n",
        "\n",
        "    #Encode the URL\n",
        "    encoded_image_url = urllib.parse.quote(image_url, safe=':/?=&%')\n",
        "    return render_template('generated_yellow_image.html',image_url=encoded_image_url)\n",
        "  else:\n",
        "    return \"something went wrong\"\n",
        "\n",
        "print(f\"To acces the Gloable link please click {public_url}\")\n",
        "\n",
        "#Runnng the App\n",
        "app.run(port=port_no)\n"
      ]
    }
  ],
  "metadata": {
    "colab": {
      "provenance": []
    },
    "kernelspec": {
      "display_name": "Python 3",
      "name": "python3"
    },
    "language_info": {
      "name": "python"
    }
  },
  "nbformat": 4,
  "nbformat_minor": 0
}